{
 "cells": [
  {
   "cell_type": "code",
   "execution_count": 3,
   "metadata": {},
   "outputs": [],
   "source": [
    "import pandas as pd\n",
    "import numpy as np\n",
    "import matplotlib as plt\n",
    "import seaborn as sns"
   ]
  },
  {
   "cell_type": "code",
   "execution_count": 4,
   "metadata": {},
   "outputs": [],
   "source": [
    "%matplotlib inline"
   ]
  },
  {
   "cell_type": "code",
   "execution_count": 5,
   "metadata": {},
   "outputs": [],
   "source": [
    "#provider=pd.read_csv(\"../data/Medicare_Provider_Util_Payment_PUF_CY2017.txt\", sep = \"\\t\")\n",
    "#contents = contents.decode('utf-8', 'ignore')\n",
    "#hospital1=pd.read_csv(\"../data/508-Compliant-Version-of-2020_january_web_addendum_b.12312019.txt\", sep = \"\\t\",header=2)"
   ]
  },
  {
   "cell_type": "code",
   "execution_count": 6,
   "metadata": {
    "scrolled": true
   },
   "outputs": [],
   "source": [
    "hospital=pd.read_excel(\n",
    "    '../data/2020_january_web_addendum_b.12312019.xlsx',header=2,\n",
    "    usecols=['HCPCS Code','Short Descriptor','APC ','National Unadjusted Copayment ','Minimum Unadjusted Copayment '],\n",
    "    dtype={'APC ':'str'})"
   ]
  },
  {
   "cell_type": "code",
   "execution_count": 7,
   "metadata": {
    "scrolled": true
   },
   "outputs": [
    {
     "data": {
      "text/html": [
       "<div>\n",
       "<style scoped>\n",
       "    .dataframe tbody tr th:only-of-type {\n",
       "        vertical-align: middle;\n",
       "    }\n",
       "\n",
       "    .dataframe tbody tr th {\n",
       "        vertical-align: top;\n",
       "    }\n",
       "\n",
       "    .dataframe thead th {\n",
       "        text-align: right;\n",
       "    }\n",
       "</style>\n",
       "<table border=\"1\" class=\"dataframe\">\n",
       "  <thead>\n",
       "    <tr style=\"text-align: right;\">\n",
       "      <th></th>\n",
       "      <th>HCPCS Code</th>\n",
       "      <th>Short Descriptor</th>\n",
       "      <th>APC</th>\n",
       "      <th>National Unadjusted Copayment</th>\n",
       "      <th>Minimum Unadjusted Copayment</th>\n",
       "    </tr>\n",
       "  </thead>\n",
       "  <tbody>\n",
       "    <tr>\n",
       "      <th>0</th>\n",
       "      <td>00100</td>\n",
       "      <td>Anesth salivary gland</td>\n",
       "      <td>NaN</td>\n",
       "      <td>NaN</td>\n",
       "      <td>NaN</td>\n",
       "    </tr>\n",
       "    <tr>\n",
       "      <th>1</th>\n",
       "      <td>00102</td>\n",
       "      <td>Anesth repair of cleft lip</td>\n",
       "      <td>NaN</td>\n",
       "      <td>NaN</td>\n",
       "      <td>NaN</td>\n",
       "    </tr>\n",
       "    <tr>\n",
       "      <th>2</th>\n",
       "      <td>00103</td>\n",
       "      <td>Anesth blepharoplasty</td>\n",
       "      <td>NaN</td>\n",
       "      <td>NaN</td>\n",
       "      <td>NaN</td>\n",
       "    </tr>\n",
       "    <tr>\n",
       "      <th>3</th>\n",
       "      <td>00104</td>\n",
       "      <td>Anesth electroshock</td>\n",
       "      <td>NaN</td>\n",
       "      <td>NaN</td>\n",
       "      <td>NaN</td>\n",
       "    </tr>\n",
       "    <tr>\n",
       "      <th>4</th>\n",
       "      <td>00120</td>\n",
       "      <td>Anesth ear surgery</td>\n",
       "      <td>NaN</td>\n",
       "      <td>NaN</td>\n",
       "      <td>NaN</td>\n",
       "    </tr>\n",
       "    <tr>\n",
       "      <th>...</th>\n",
       "      <td>...</td>\n",
       "      <td>...</td>\n",
       "      <td>...</td>\n",
       "      <td>...</td>\n",
       "      <td>...</td>\n",
       "    </tr>\n",
       "    <tr>\n",
       "      <th>16623</th>\n",
       "      <td>V5299</td>\n",
       "      <td>Hearing service</td>\n",
       "      <td>NaN</td>\n",
       "      <td>NaN</td>\n",
       "      <td>NaN</td>\n",
       "    </tr>\n",
       "    <tr>\n",
       "      <th>16624</th>\n",
       "      <td>V5336</td>\n",
       "      <td>Repair communication device</td>\n",
       "      <td>NaN</td>\n",
       "      <td>NaN</td>\n",
       "      <td>NaN</td>\n",
       "    </tr>\n",
       "    <tr>\n",
       "      <th>16625</th>\n",
       "      <td>V5362</td>\n",
       "      <td>Speech screening</td>\n",
       "      <td>NaN</td>\n",
       "      <td>NaN</td>\n",
       "      <td>NaN</td>\n",
       "    </tr>\n",
       "    <tr>\n",
       "      <th>16626</th>\n",
       "      <td>V5363</td>\n",
       "      <td>Language screening</td>\n",
       "      <td>NaN</td>\n",
       "      <td>NaN</td>\n",
       "      <td>NaN</td>\n",
       "    </tr>\n",
       "    <tr>\n",
       "      <th>16627</th>\n",
       "      <td>V5364</td>\n",
       "      <td>Dysphagia screening</td>\n",
       "      <td>NaN</td>\n",
       "      <td>NaN</td>\n",
       "      <td>NaN</td>\n",
       "    </tr>\n",
       "  </tbody>\n",
       "</table>\n",
       "<p>16628 rows × 5 columns</p>\n",
       "</div>"
      ],
      "text/plain": [
       "      HCPCS Code             Short Descriptor APC   \\\n",
       "0          00100        Anesth salivary gland  NaN   \n",
       "1          00102   Anesth repair of cleft lip  NaN   \n",
       "2          00103        Anesth blepharoplasty  NaN   \n",
       "3          00104          Anesth electroshock  NaN   \n",
       "4          00120           Anesth ear surgery  NaN   \n",
       "...          ...                          ...  ...   \n",
       "16623      V5299              Hearing service  NaN   \n",
       "16624      V5336  Repair communication device  NaN   \n",
       "16625      V5362             Speech screening  NaN   \n",
       "16626      V5363           Language screening  NaN   \n",
       "16627      V5364          Dysphagia screening  NaN   \n",
       "\n",
       "      National Unadjusted Copayment   Minimum Unadjusted Copayment   \n",
       "0                                NaN                            NaN  \n",
       "1                                NaN                            NaN  \n",
       "2                                NaN                            NaN  \n",
       "3                                NaN                            NaN  \n",
       "4                                NaN                            NaN  \n",
       "...                              ...                            ...  \n",
       "16623                            NaN                            NaN  \n",
       "16624                            NaN                            NaN  \n",
       "16625                            NaN                            NaN  \n",
       "16626                            NaN                            NaN  \n",
       "16627                            NaN                            NaN  \n",
       "\n",
       "[16628 rows x 5 columns]"
      ]
     },
     "execution_count": 7,
     "metadata": {},
     "output_type": "execute_result"
    }
   ],
   "source": [
    "hospital"
   ]
  },
  {
   "cell_type": "code",
   "execution_count": 8,
   "metadata": {},
   "outputs": [
    {
     "data": {
      "text/plain": [
       "Index(['HCPCS Code', 'Short Descriptor', 'APC ',\n",
       "       'National Unadjusted Copayment ', 'Minimum Unadjusted Copayment '],\n",
       "      dtype='object')"
      ]
     },
     "execution_count": 8,
     "metadata": {},
     "output_type": "execute_result"
    }
   ],
   "source": [
    "hospital.columns"
   ]
  },
  {
   "cell_type": "code",
   "execution_count": 9,
   "metadata": {},
   "outputs": [
    {
     "data": {
      "text/html": [
       "<div>\n",
       "<style scoped>\n",
       "    .dataframe tbody tr th:only-of-type {\n",
       "        vertical-align: middle;\n",
       "    }\n",
       "\n",
       "    .dataframe tbody tr th {\n",
       "        vertical-align: top;\n",
       "    }\n",
       "\n",
       "    .dataframe thead th {\n",
       "        text-align: right;\n",
       "    }\n",
       "</style>\n",
       "<table border=\"1\" class=\"dataframe\">\n",
       "  <thead>\n",
       "    <tr style=\"text-align: right;\">\n",
       "      <th></th>\n",
       "      <th>hcpcs_code</th>\n",
       "      <th>short_descriptor</th>\n",
       "      <th>apc</th>\n",
       "      <th>national_unadjusted_copayment</th>\n",
       "      <th>minimum_unadjusted_copayment</th>\n",
       "    </tr>\n",
       "  </thead>\n",
       "  <tbody>\n",
       "    <tr>\n",
       "      <th>273</th>\n",
       "      <td>10005</td>\n",
       "      <td>Fna bx w/us gdn 1st les</td>\n",
       "      <td>5071</td>\n",
       "      <td>.</td>\n",
       "      <td>122.0100</td>\n",
       "    </tr>\n",
       "    <tr>\n",
       "      <th>275</th>\n",
       "      <td>10007</td>\n",
       "      <td>Fna bx w/fluor gdn 1st les</td>\n",
       "      <td>5071</td>\n",
       "      <td>.</td>\n",
       "      <td>122.0100</td>\n",
       "    </tr>\n",
       "    <tr>\n",
       "      <th>277</th>\n",
       "      <td>10009</td>\n",
       "      <td>Fna bx w/ct gdn 1st les</td>\n",
       "      <td>5071</td>\n",
       "      <td>.</td>\n",
       "      <td>122.0100</td>\n",
       "    </tr>\n",
       "    <tr>\n",
       "      <th>279</th>\n",
       "      <td>10011</td>\n",
       "      <td>Fna bx w/mr gdn 1st les</td>\n",
       "      <td>5071</td>\n",
       "      <td>.</td>\n",
       "      <td>122.0100</td>\n",
       "    </tr>\n",
       "    <tr>\n",
       "      <th>281</th>\n",
       "      <td>10021</td>\n",
       "      <td>Fna bx w/o img gdn 1st les</td>\n",
       "      <td>5052</td>\n",
       "      <td>.</td>\n",
       "      <td>63.9100</td>\n",
       "    </tr>\n",
       "    <tr>\n",
       "      <th>...</th>\n",
       "      <td>...</td>\n",
       "      <td>...</td>\n",
       "      <td>...</td>\n",
       "      <td>...</td>\n",
       "      <td>...</td>\n",
       "    </tr>\n",
       "    <tr>\n",
       "      <th>16397</th>\n",
       "      <td>Q9950</td>\n",
       "      <td>Inj sulf hexa lipid microsph</td>\n",
       "      <td>9085</td>\n",
       "      <td>0</td>\n",
       "      <td>0.0000</td>\n",
       "    </tr>\n",
       "    <tr>\n",
       "      <th>16414</th>\n",
       "      <td>Q9968</td>\n",
       "      <td>Visualization adjunct</td>\n",
       "      <td>1446</td>\n",
       "      <td>.</td>\n",
       "      <td>1.2224</td>\n",
       "    </tr>\n",
       "    <tr>\n",
       "      <th>16415</th>\n",
       "      <td>Q9969</td>\n",
       "      <td>Non-heu tc-99m add-on/dose</td>\n",
       "      <td>1442</td>\n",
       "      <td>.</td>\n",
       "      <td>2.0000</td>\n",
       "    </tr>\n",
       "    <tr>\n",
       "      <th>16418</th>\n",
       "      <td>Q9991</td>\n",
       "      <td>Buprenorph xr 100 mg or less</td>\n",
       "      <td>9073</td>\n",
       "      <td>.</td>\n",
       "      <td>334.4908</td>\n",
       "    </tr>\n",
       "    <tr>\n",
       "      <th>16419</th>\n",
       "      <td>Q9992</td>\n",
       "      <td>Buprenorphine xr over 100 mg</td>\n",
       "      <td>9239</td>\n",
       "      <td>.</td>\n",
       "      <td>334.4908</td>\n",
       "    </tr>\n",
       "  </tbody>\n",
       "</table>\n",
       "<p>5934 rows × 5 columns</p>\n",
       "</div>"
      ],
      "text/plain": [
       "      hcpcs_code              short_descriptor   apc  \\\n",
       "273        10005       Fna bx w/us gdn 1st les  5071   \n",
       "275        10007    Fna bx w/fluor gdn 1st les  5071   \n",
       "277        10009       Fna bx w/ct gdn 1st les  5071   \n",
       "279        10011       Fna bx w/mr gdn 1st les  5071   \n",
       "281        10021    Fna bx w/o img gdn 1st les  5052   \n",
       "...          ...                           ...   ...   \n",
       "16397      Q9950  Inj sulf hexa lipid microsph  9085   \n",
       "16414      Q9968         Visualization adjunct  1446   \n",
       "16415      Q9969    Non-heu tc-99m add-on/dose  1442   \n",
       "16418      Q9991  Buprenorph xr 100 mg or less  9073   \n",
       "16419      Q9992  Buprenorphine xr over 100 mg  9239   \n",
       "\n",
       "      national_unadjusted_copayment  minimum_unadjusted_copayment  \n",
       "273                               .                      122.0100  \n",
       "275                               .                      122.0100  \n",
       "277                               .                      122.0100  \n",
       "279                               .                      122.0100  \n",
       "281                               .                       63.9100  \n",
       "...                             ...                           ...  \n",
       "16397                             0                        0.0000  \n",
       "16414                             .                        1.2224  \n",
       "16415                             .                        2.0000  \n",
       "16418                             .                      334.4908  \n",
       "16419                             .                      334.4908  \n",
       "\n",
       "[5934 rows x 5 columns]"
      ]
     },
     "execution_count": 9,
     "metadata": {},
     "output_type": "execute_result"
    }
   ],
   "source": [
    "#lower case column lables, replace blank spaces with underscores(_)\n",
    "hospital.columns=hospital.columns.str.strip().str.lower().str.replace(' ','_')\n",
    "\n",
    "#rename column 'apc '' to 'apc' to eliminate trailing space and drop null APC values\n",
    "hospital=hospital.rename(columns={'apc ':'apc'}).dropna()\n",
    "\n",
    "#need to run to enforce column name change\n",
    "hospital\n"
   ]
  },
  {
   "cell_type": "code",
   "execution_count": 10,
   "metadata": {},
   "outputs": [
    {
     "data": {
      "text/plain": [
       "Index(['hcpcs_code', 'short_descriptor', 'apc',\n",
       "       'national_unadjusted_copayment', 'minimum_unadjusted_copayment'],\n",
       "      dtype='object')"
      ]
     },
     "execution_count": 10,
     "metadata": {},
     "output_type": "execute_result"
    }
   ],
   "source": [
    "hospital.columns"
   ]
  },
  {
   "cell_type": "code",
   "execution_count": 25,
   "metadata": {},
   "outputs": [
    {
     "data": {
      "text/plain": [
       "hcpcs_code                        object\n",
       "short_descriptor                  object\n",
       "apc                               object\n",
       "national_unadjusted_copayment     object\n",
       "minimum_unadjusted_copayment     float64\n",
       "dtype: object"
      ]
     },
     "execution_count": 25,
     "metadata": {},
     "output_type": "execute_result"
    }
   ],
   "source": [
    "#hospital=hospital.dtype({'hcpcs_code':str,'apc':str})\n",
    "hospital.dtypes"
   ]
  },
  {
   "cell_type": "code",
   "execution_count": 26,
   "metadata": {},
   "outputs": [
    {
     "data": {
      "text/plain": [
       "(5934, 5)"
      ]
     },
     "execution_count": 26,
     "metadata": {},
     "output_type": "execute_result"
    }
   ],
   "source": [
    "hospital.shape"
   ]
  },
  {
   "cell_type": "code",
   "execution_count": 28,
   "metadata": {},
   "outputs": [
    {
     "data": {
      "text/plain": [
       "hcpcs_code                       0\n",
       "short_descriptor                 0\n",
       "apc                              0\n",
       "national_unadjusted_copayment    0\n",
       "minimum_unadjusted_copayment     0\n",
       "dtype: int64"
      ]
     },
     "execution_count": 28,
     "metadata": {},
     "output_type": "execute_result"
    }
   ],
   "source": [
    "hospital.isnull().sum()"
   ]
  },
  {
   "cell_type": "code",
   "execution_count": 29,
   "metadata": {},
   "outputs": [],
   "source": [
    "#export as csv file to notebook data folder, can be read from other notebooks\n",
    "#df.to_csv(r'C:\\Users\\Admin\\Desktop\\file3.csv', index=False)\n",
    "hospital.to_csv('../data/hospital.csv', index=False)"
   ]
  },
  {
   "cell_type": "code",
   "execution_count": null,
   "metadata": {},
   "outputs": [],
   "source": []
  }
 ],
 "metadata": {
  "kernelspec": {
   "display_name": "Python 3",
   "language": "python",
   "name": "python3"
  },
  "language_info": {
   "codemirror_mode": {
    "name": "ipython",
    "version": 3
   },
   "file_extension": ".py",
   "mimetype": "text/x-python",
   "name": "python",
   "nbconvert_exporter": "python",
   "pygments_lexer": "ipython3",
   "version": "3.7.6"
  }
 },
 "nbformat": 4,
 "nbformat_minor": 4
}
